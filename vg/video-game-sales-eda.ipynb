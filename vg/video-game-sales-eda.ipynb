{
 "cells": [
  {
   "cell_type": "code",
   "execution_count": 1,
   "source": [
    "# This Python 3 environment comes with many helpful analytics libraries installed\n",
    "# It is defined by the kaggle/python Docker image: https://github.com/kaggle/docker-python\n",
    "# For example, here's several helpful packages to load\n",
    "\n",
    "import numpy as np # linear algebra\n",
    "import pandas as pd # data processing, CSV file I/O (e.g. pd.read_csv)\n",
    "from pandas import Series, DataFrame\n",
    "\n",
    "# Input data files are available in the read-only \"../input/\" directory\n",
    "# For example, running this (by clicking run or pressing Shift+Enter) will list all files under the input directory\n",
    "\n",
    "import os\n",
    "for dirname, _, filenames in os.walk('/kaggle/input'):\n",
    "    for filename in filenames:\n",
    "        print(os.path.join(dirname, filename))\n",
    "\n",
    "# You can write up to 20GB to the current directory (/kaggle/working/) that gets preserved as output when you create a version using \"Save & Run All\" \n",
    "# You can also write temporary files to /kaggle/temp/, but they won't be saved outside of the current session"
   ],
   "outputs": [
    {
     "output_type": "stream",
     "name": "stdout",
     "text": [
      "/kaggle/input/videogamesales/vgsales.csv\n"
     ]
    }
   ],
   "metadata": {
    "_cell_guid": "b1076dfc-b9ad-4769-8c92-a6c4dae69d19",
    "_kg_hide-output": true,
    "_uuid": "8f2839f25d086af736a60e9eeb907d3b93b6e0e5",
    "execution": {
     "iopub.execute_input": "2021-09-27T16:57:12.683918Z",
     "iopub.status.busy": "2021-09-27T16:57:12.683031Z",
     "iopub.status.idle": "2021-09-27T16:57:12.705063Z",
     "shell.execute_reply": "2021-09-27T16:57:12.705881Z",
     "shell.execute_reply.started": "2021-09-27T16:17:23.974229Z"
    },
    "papermill": {
     "duration": 0.060194,
     "end_time": "2021-09-27T16:57:12.706333",
     "exception": false,
     "start_time": "2021-09-27T16:57:12.646139",
     "status": "completed"
    },
    "tags": []
   }
  },
  {
   "cell_type": "code",
   "execution_count": 2,
   "source": [
    "import matplotlib.pyplot as plt\n",
    "%matplotlib inline\n",
    "import seaborn as sns"
   ],
   "outputs": [],
   "metadata": {
    "execution": {
     "iopub.execute_input": "2021-09-27T16:57:12.754980Z",
     "iopub.status.busy": "2021-09-27T16:57:12.754210Z",
     "iopub.status.idle": "2021-09-27T16:57:13.780240Z",
     "shell.execute_reply": "2021-09-27T16:57:13.779465Z",
     "shell.execute_reply.started": "2021-09-27T16:17:24.010688Z"
    },
    "papermill": {
     "duration": 1.049627,
     "end_time": "2021-09-27T16:57:13.780487",
     "exception": false,
     "start_time": "2021-09-27T16:57:12.730860",
     "status": "completed"
    },
    "tags": []
   }
  },
  {
   "cell_type": "code",
   "execution_count": 3,
   "source": [
    "vgsales_df = pd.read_csv('/kaggle/input/videogamesales/vgsales.csv')\n",
    "vgsales_df.sample(10)"
   ],
   "outputs": [
    {
     "output_type": "execute_result",
     "data": {
      "text/html": [
       "<div>\n",
       "<style scoped>\n",
       "    .dataframe tbody tr th:only-of-type {\n",
       "        vertical-align: middle;\n",
       "    }\n",
       "\n",
       "    .dataframe tbody tr th {\n",
       "        vertical-align: top;\n",
       "    }\n",
       "\n",
       "    .dataframe thead th {\n",
       "        text-align: right;\n",
       "    }\n",
       "</style>\n",
       "<table border=\"1\" class=\"dataframe\">\n",
       "  <thead>\n",
       "    <tr style=\"text-align: right;\">\n",
       "      <th></th>\n",
       "      <th>Rank</th>\n",
       "      <th>Name</th>\n",
       "      <th>Platform</th>\n",
       "      <th>Year</th>\n",
       "      <th>Genre</th>\n",
       "      <th>Publisher</th>\n",
       "      <th>NA_Sales</th>\n",
       "      <th>EU_Sales</th>\n",
       "      <th>JP_Sales</th>\n",
       "      <th>Other_Sales</th>\n",
       "      <th>Global_Sales</th>\n",
       "    </tr>\n",
       "  </thead>\n",
       "  <tbody>\n",
       "    <tr>\n",
       "      <th>4773</th>\n",
       "      <td>4775</td>\n",
       "      <td>FIFA Soccer 13</td>\n",
       "      <td>PC</td>\n",
       "      <td>2012.0</td>\n",
       "      <td>Action</td>\n",
       "      <td>Electronic Arts</td>\n",
       "      <td>0.02</td>\n",
       "      <td>0.31</td>\n",
       "      <td>0.00</td>\n",
       "      <td>0.07</td>\n",
       "      <td>0.41</td>\n",
       "    </tr>\n",
       "    <tr>\n",
       "      <th>6660</th>\n",
       "      <td>6662</td>\n",
       "      <td>Just Dance Kids 2</td>\n",
       "      <td>PS3</td>\n",
       "      <td>2011.0</td>\n",
       "      <td>Misc</td>\n",
       "      <td>Ubisoft</td>\n",
       "      <td>0.10</td>\n",
       "      <td>0.10</td>\n",
       "      <td>0.00</td>\n",
       "      <td>0.04</td>\n",
       "      <td>0.25</td>\n",
       "    </tr>\n",
       "    <tr>\n",
       "      <th>11534</th>\n",
       "      <td>11536</td>\n",
       "      <td>Armored Core 3 Portable</td>\n",
       "      <td>PSP</td>\n",
       "      <td>2009.0</td>\n",
       "      <td>Simulation</td>\n",
       "      <td>From Software</td>\n",
       "      <td>0.00</td>\n",
       "      <td>0.00</td>\n",
       "      <td>0.08</td>\n",
       "      <td>0.00</td>\n",
       "      <td>0.08</td>\n",
       "    </tr>\n",
       "    <tr>\n",
       "      <th>6568</th>\n",
       "      <td>6570</td>\n",
       "      <td>J-League Pro Soccer Club wo Tsukurou!</td>\n",
       "      <td>SAT</td>\n",
       "      <td>1996.0</td>\n",
       "      <td>Sports</td>\n",
       "      <td>Sega</td>\n",
       "      <td>0.00</td>\n",
       "      <td>0.00</td>\n",
       "      <td>0.26</td>\n",
       "      <td>0.00</td>\n",
       "      <td>0.26</td>\n",
       "    </tr>\n",
       "    <tr>\n",
       "      <th>11707</th>\n",
       "      <td>11709</td>\n",
       "      <td>The Hustle: Detroit Streets</td>\n",
       "      <td>PSP</td>\n",
       "      <td>2005.0</td>\n",
       "      <td>Sports</td>\n",
       "      <td>Deep Silver</td>\n",
       "      <td>0.07</td>\n",
       "      <td>0.00</td>\n",
       "      <td>0.00</td>\n",
       "      <td>0.01</td>\n",
       "      <td>0.08</td>\n",
       "    </tr>\n",
       "    <tr>\n",
       "      <th>15797</th>\n",
       "      <td>15800</td>\n",
       "      <td>Wall-E</td>\n",
       "      <td>PC</td>\n",
       "      <td>2008.0</td>\n",
       "      <td>Platform</td>\n",
       "      <td>THQ</td>\n",
       "      <td>0.00</td>\n",
       "      <td>0.01</td>\n",
       "      <td>0.00</td>\n",
       "      <td>0.00</td>\n",
       "      <td>0.02</td>\n",
       "    </tr>\n",
       "    <tr>\n",
       "      <th>8044</th>\n",
       "      <td>8046</td>\n",
       "      <td>Trauma Team</td>\n",
       "      <td>Wii</td>\n",
       "      <td>NaN</td>\n",
       "      <td>Simulation</td>\n",
       "      <td>Unknown</td>\n",
       "      <td>0.15</td>\n",
       "      <td>0.00</td>\n",
       "      <td>0.02</td>\n",
       "      <td>0.01</td>\n",
       "      <td>0.18</td>\n",
       "    </tr>\n",
       "    <tr>\n",
       "      <th>453</th>\n",
       "      <td>454</td>\n",
       "      <td>Borderlands 2</td>\n",
       "      <td>X360</td>\n",
       "      <td>2012.0</td>\n",
       "      <td>Shooter</td>\n",
       "      <td>Take-Two Interactive</td>\n",
       "      <td>1.89</td>\n",
       "      <td>0.91</td>\n",
       "      <td>0.04</td>\n",
       "      <td>0.24</td>\n",
       "      <td>3.07</td>\n",
       "    </tr>\n",
       "    <tr>\n",
       "      <th>5909</th>\n",
       "      <td>5911</td>\n",
       "      <td>Star Gladiator Episode: I Final Crusade</td>\n",
       "      <td>PS</td>\n",
       "      <td>1996.0</td>\n",
       "      <td>Fighting</td>\n",
       "      <td>Virgin Interactive</td>\n",
       "      <td>0.07</td>\n",
       "      <td>0.05</td>\n",
       "      <td>0.15</td>\n",
       "      <td>0.02</td>\n",
       "      <td>0.30</td>\n",
       "    </tr>\n",
       "    <tr>\n",
       "      <th>5202</th>\n",
       "      <td>5204</td>\n",
       "      <td>NFL GameDay 2001</td>\n",
       "      <td>PS2</td>\n",
       "      <td>2000.0</td>\n",
       "      <td>Sports</td>\n",
       "      <td>Sony Computer Entertainment</td>\n",
       "      <td>0.18</td>\n",
       "      <td>0.14</td>\n",
       "      <td>0.00</td>\n",
       "      <td>0.05</td>\n",
       "      <td>0.36</td>\n",
       "    </tr>\n",
       "  </tbody>\n",
       "</table>\n",
       "</div>"
      ],
      "text/plain": [
       "        Rank                                     Name Platform    Year  \\\n",
       "4773    4775                           FIFA Soccer 13       PC  2012.0   \n",
       "6660    6662                        Just Dance Kids 2      PS3  2011.0   \n",
       "11534  11536                  Armored Core 3 Portable      PSP  2009.0   \n",
       "6568    6570    J-League Pro Soccer Club wo Tsukurou!      SAT  1996.0   \n",
       "11707  11709              The Hustle: Detroit Streets      PSP  2005.0   \n",
       "15797  15800                                   Wall-E       PC  2008.0   \n",
       "8044    8046                              Trauma Team      Wii     NaN   \n",
       "453      454                            Borderlands 2     X360  2012.0   \n",
       "5909    5911  Star Gladiator Episode: I Final Crusade       PS  1996.0   \n",
       "5202    5204                         NFL GameDay 2001      PS2  2000.0   \n",
       "\n",
       "            Genre                    Publisher  NA_Sales  EU_Sales  JP_Sales  \\\n",
       "4773       Action              Electronic Arts      0.02      0.31      0.00   \n",
       "6660         Misc                      Ubisoft      0.10      0.10      0.00   \n",
       "11534  Simulation                From Software      0.00      0.00      0.08   \n",
       "6568       Sports                         Sega      0.00      0.00      0.26   \n",
       "11707      Sports                  Deep Silver      0.07      0.00      0.00   \n",
       "15797    Platform                          THQ      0.00      0.01      0.00   \n",
       "8044   Simulation                      Unknown      0.15      0.00      0.02   \n",
       "453       Shooter         Take-Two Interactive      1.89      0.91      0.04   \n",
       "5909     Fighting           Virgin Interactive      0.07      0.05      0.15   \n",
       "5202       Sports  Sony Computer Entertainment      0.18      0.14      0.00   \n",
       "\n",
       "       Other_Sales  Global_Sales  \n",
       "4773          0.07          0.41  \n",
       "6660          0.04          0.25  \n",
       "11534         0.00          0.08  \n",
       "6568          0.00          0.26  \n",
       "11707         0.01          0.08  \n",
       "15797         0.00          0.02  \n",
       "8044          0.01          0.18  \n",
       "453           0.24          3.07  \n",
       "5909          0.02          0.30  \n",
       "5202          0.05          0.36  "
      ]
     },
     "metadata": {},
     "execution_count": 3
    }
   ],
   "metadata": {
    "execution": {
     "iopub.execute_input": "2021-09-27T16:57:13.826116Z",
     "iopub.status.busy": "2021-09-27T16:57:13.825397Z",
     "iopub.status.idle": "2021-09-27T16:57:13.936940Z",
     "shell.execute_reply": "2021-09-27T16:57:13.937506Z",
     "shell.execute_reply.started": "2021-09-27T16:17:24.83971Z"
    },
    "papermill": {
     "duration": 0.138375,
     "end_time": "2021-09-27T16:57:13.937721",
     "exception": false,
     "start_time": "2021-09-27T16:57:13.799346",
     "status": "completed"
    },
    "tags": []
   }
  },
  {
   "cell_type": "code",
   "execution_count": 4,
   "source": [
    "vgsales_df.info()"
   ],
   "outputs": [
    {
     "output_type": "stream",
     "name": "stdout",
     "text": [
      "<class 'pandas.core.frame.DataFrame'>\n",
      "RangeIndex: 16598 entries, 0 to 16597\n",
      "Data columns (total 11 columns):\n",
      " #   Column        Non-Null Count  Dtype  \n",
      "---  ------        --------------  -----  \n",
      " 0   Rank          16598 non-null  int64  \n",
      " 1   Name          16598 non-null  object \n",
      " 2   Platform      16598 non-null  object \n",
      " 3   Year          16327 non-null  float64\n",
      " 4   Genre         16598 non-null  object \n",
      " 5   Publisher     16540 non-null  object \n",
      " 6   NA_Sales      16598 non-null  float64\n",
      " 7   EU_Sales      16598 non-null  float64\n",
      " 8   JP_Sales      16598 non-null  float64\n",
      " 9   Other_Sales   16598 non-null  float64\n",
      " 10  Global_Sales  16598 non-null  float64\n",
      "dtypes: float64(6), int64(1), object(4)\n",
      "memory usage: 1.4+ MB\n"
     ]
    }
   ],
   "metadata": {
    "execution": {
     "iopub.execute_input": "2021-09-27T16:57:13.982429Z",
     "iopub.status.busy": "2021-09-27T16:57:13.981682Z",
     "iopub.status.idle": "2021-09-27T16:57:14.009750Z",
     "shell.execute_reply": "2021-09-27T16:57:14.008928Z",
     "shell.execute_reply.started": "2021-09-27T16:17:24.927595Z"
    },
    "papermill": {
     "duration": 0.054151,
     "end_time": "2021-09-27T16:57:14.009962",
     "exception": false,
     "start_time": "2021-09-27T16:57:13.955811",
     "status": "completed"
    },
    "tags": []
   }
  },
  {
   "cell_type": "markdown",
   "source": [
    "## Task 1: Scrubbing data types\n",
    "- converting data to correct dtypes\n",
    "- check for missing values"
   ],
   "metadata": {
    "papermill": {
     "duration": 0.017343,
     "end_time": "2021-09-27T16:57:14.045784",
     "exception": false,
     "start_time": "2021-09-27T16:57:14.028441",
     "status": "completed"
    },
    "tags": []
   }
  },
  {
   "cell_type": "code",
   "execution_count": 5,
   "source": [
    "# handling null values\n",
    "null_df = vgsales_df.isnull()\n",
    "\n",
    "vgsales_df['Publisher'].fillna('NaN', inplace = True)\n",
    "vgsales_df.dropna(inplace = True) # remove all entries without year\n",
    "cleaned_df = vgsales_df.isnull()\n",
    "\n",
    "fig, ax = plt.subplots(nrows = 1, ncols = 2, figsize = (10, 5))\n",
    "sns.heatmap(null_df, ax = ax[0], cbar= False)\n",
    "ax[0].set_title('Orignal Data')\n",
    "sns.heatmap(cleaned_df, ax = ax[1], cbar = False)\n",
    "ax[1].set_title('Cleaned Data')"
   ],
   "outputs": [
    {
     "output_type": "execute_result",
     "data": {
      "text/plain": [
       "Text(0.5, 1.0, 'Cleaned Data')"
      ]
     },
     "metadata": {},
     "execution_count": 5
    },
    {
     "output_type": "display_data",
     "data": {
      "image/png": "[encoded data removed]",
      "text/plain": [
       "<Figure size 720x360 with 2 Axes>"
      ]
     },
     "metadata": {
      "needs_background": "light"
     }
    }
   ],
   "metadata": {
    "execution": {
     "iopub.execute_input": "2021-09-27T16:57:14.102466Z",
     "iopub.status.busy": "2021-09-27T16:57:14.098492Z",
     "iopub.status.idle": "2021-09-27T16:57:15.693296Z",
     "shell.execute_reply": "2021-09-27T16:57:15.693815Z",
     "shell.execute_reply.started": "2021-09-27T16:17:24.955025Z"
    },
    "papermill": {
     "duration": 1.629875,
     "end_time": "2021-09-27T16:57:15.694002",
     "exception": false,
     "start_time": "2021-09-27T16:57:14.064127",
     "status": "completed"
    },
    "tags": []
   }
  },
  {
   "cell_type": "code",
   "execution_count": 6,
   "source": [
    "# converting obj col into string type\n",
    "list_of_str_cols = ['Name', 'Platform', 'Genre', 'Publisher']\n",
    "\n",
    "for col in list_of_str_cols:\n",
    "    vgsales_df[col].astype('str')\n",
    "    \n",
    "# converting year into int type\n",
    "vgsales_df['Year'] = vgsales_df['Year'].astype('int64')\n",
    "\n",
    "vgsales_df.dtypes"
   ],
   "outputs": [
    {
     "output_type": "execute_result",
     "data": {
      "text/plain": [
       "Rank              int64\n",
       "Name             object\n",
       "Platform         object\n",
       "Year              int64\n",
       "Genre            object\n",
       "Publisher        object\n",
       "NA_Sales        float64\n",
       "EU_Sales        float64\n",
       "JP_Sales        float64\n",
       "Other_Sales     float64\n",
       "Global_Sales    float64\n",
       "dtype: object"
      ]
     },
     "metadata": {},
     "execution_count": 6
    }
   ],
   "metadata": {
    "execution": {
     "iopub.execute_input": "2021-09-27T16:57:15.740178Z",
     "iopub.status.busy": "2021-09-27T16:57:15.739250Z",
     "iopub.status.idle": "2021-09-27T16:57:15.753492Z",
     "shell.execute_reply": "2021-09-27T16:57:15.752844Z",
     "shell.execute_reply.started": "2021-09-27T16:17:26.359175Z"
    },
    "papermill": {
     "duration": 0.040611,
     "end_time": "2021-09-27T16:57:15.753658",
     "exception": false,
     "start_time": "2021-09-27T16:57:15.713047",
     "status": "completed"
    },
    "tags": []
   }
  },
  {
   "cell_type": "markdown",
   "source": [
    "## Task 2: EDA \n",
    "- Which Genre has the highest sale\n",
    "- Top 5 platforms with the highest sale\n",
    "- Which platform has more units sold and do they earned more or less? why?\n",
    "\n",
    "### Assumption: \n",
    "- since \"Sales\" do not indicate whether they are units sold or gross revenue nor has currentcy used, I am going to assume that they are usd currency for practice purpose.\n",
    "- Global_Sales = NA_Sales + EU_Sales + JP_Sales + Other_Sales"
   ],
   "metadata": {
    "papermill": {
     "duration": 0.020057,
     "end_time": "2021-09-27T16:57:15.795533",
     "exception": false,
     "start_time": "2021-09-27T16:57:15.775476",
     "status": "completed"
    },
    "tags": []
   }
  },
  {
   "cell_type": "code",
   "execution_count": 7,
   "source": [
    "# grabbing some quick stats for original df\n",
    "vgsales_df.describe()"
   ],
   "outputs": [
    {
     "output_type": "execute_result",
     "data": {
      "text/html": [
       "<div>\n",
       "<style scoped>\n",
       "    .dataframe tbody tr th:only-of-type {\n",
       "        vertical-align: middle;\n",
       "    }\n",
       "\n",
       "    .dataframe tbody tr th {\n",
       "        vertical-align: top;\n",
       "    }\n",
       "\n",
       "    .dataframe thead th {\n",
       "        text-align: right;\n",
       "    }\n",
       "</style>\n",
       "<table border=\"1\" class=\"dataframe\">\n",
       "  <thead>\n",
       "    <tr style=\"text-align: right;\">\n",
       "      <th></th>\n",
       "      <th>Rank</th>\n",
       "      <th>Year</th>\n",
       "      <th>NA_Sales</th>\n",
       "      <th>EU_Sales</th>\n",
       "      <th>JP_Sales</th>\n",
       "      <th>Other_Sales</th>\n",
       "      <th>Global_Sales</th>\n",
       "    </tr>\n",
       "  </thead>\n",
       "  <tbody>\n",
       "    <tr>\n",
       "      <th>count</th>\n",
       "      <td>16327.000000</td>\n",
       "      <td>16327.000000</td>\n",
       "      <td>16327.000000</td>\n",
       "      <td>16327.000000</td>\n",
       "      <td>16327.000000</td>\n",
       "      <td>16327.000000</td>\n",
       "      <td>16327.000000</td>\n",
       "    </tr>\n",
       "    <tr>\n",
       "      <th>mean</th>\n",
       "      <td>8292.868194</td>\n",
       "      <td>2006.406443</td>\n",
       "      <td>0.265415</td>\n",
       "      <td>0.147554</td>\n",
       "      <td>0.078661</td>\n",
       "      <td>0.048325</td>\n",
       "      <td>0.540232</td>\n",
       "    </tr>\n",
       "    <tr>\n",
       "      <th>std</th>\n",
       "      <td>4792.669778</td>\n",
       "      <td>5.828981</td>\n",
       "      <td>0.821591</td>\n",
       "      <td>0.508766</td>\n",
       "      <td>0.311557</td>\n",
       "      <td>0.189885</td>\n",
       "      <td>1.565732</td>\n",
       "    </tr>\n",
       "    <tr>\n",
       "      <th>min</th>\n",
       "      <td>1.000000</td>\n",
       "      <td>1980.000000</td>\n",
       "      <td>0.000000</td>\n",
       "      <td>0.000000</td>\n",
       "      <td>0.000000</td>\n",
       "      <td>0.000000</td>\n",
       "      <td>0.010000</td>\n",
       "    </tr>\n",
       "    <tr>\n",
       "      <th>25%</th>\n",
       "      <td>4136.500000</td>\n",
       "      <td>2003.000000</td>\n",
       "      <td>0.000000</td>\n",
       "      <td>0.000000</td>\n",
       "      <td>0.000000</td>\n",
       "      <td>0.000000</td>\n",
       "      <td>0.060000</td>\n",
       "    </tr>\n",
       "    <tr>\n",
       "      <th>50%</th>\n",
       "      <td>8295.000000</td>\n",
       "      <td>2007.000000</td>\n",
       "      <td>0.080000</td>\n",
       "      <td>0.020000</td>\n",
       "      <td>0.000000</td>\n",
       "      <td>0.010000</td>\n",
       "      <td>0.170000</td>\n",
       "    </tr>\n",
       "    <tr>\n",
       "      <th>75%</th>\n",
       "      <td>12441.500000</td>\n",
       "      <td>2010.000000</td>\n",
       "      <td>0.240000</td>\n",
       "      <td>0.110000</td>\n",
       "      <td>0.040000</td>\n",
       "      <td>0.040000</td>\n",
       "      <td>0.480000</td>\n",
       "    </tr>\n",
       "    <tr>\n",
       "      <th>max</th>\n",
       "      <td>16600.000000</td>\n",
       "      <td>2020.000000</td>\n",
       "      <td>41.490000</td>\n",
       "      <td>29.020000</td>\n",
       "      <td>10.220000</td>\n",
       "      <td>10.570000</td>\n",
       "      <td>82.740000</td>\n",
       "    </tr>\n",
       "  </tbody>\n",
       "</table>\n",
       "</div>"
      ],
      "text/plain": [
       "               Rank          Year      NA_Sales      EU_Sales      JP_Sales  \\\n",
       "count  16327.000000  16327.000000  16327.000000  16327.000000  16327.000000   \n",
       "mean    8292.868194   2006.406443      0.265415      0.147554      0.078661   \n",
       "std     4792.669778      5.828981      0.821591      0.508766      0.311557   \n",
       "min        1.000000   1980.000000      0.000000      0.000000      0.000000   \n",
       "25%     4136.500000   2003.000000      0.000000      0.000000      0.000000   \n",
       "50%     8295.000000   2007.000000      0.080000      0.020000      0.000000   \n",
       "75%    12441.500000   2010.000000      0.240000      0.110000      0.040000   \n",
       "max    16600.000000   2020.000000     41.490000     29.020000     10.220000   \n",
       "\n",
       "        Other_Sales  Global_Sales  \n",
       "count  16327.000000  16327.000000  \n",
       "mean       0.048325      0.540232  \n",
       "std        0.189885      1.565732  \n",
       "min        0.000000      0.010000  \n",
       "25%        0.000000      0.060000  \n",
       "50%        0.010000      0.170000  \n",
       "75%        0.040000      0.480000  \n",
       "max       10.570000     82.740000  "
      ]
     },
     "metadata": {},
     "execution_count": 7
    }
   ],
   "metadata": {
    "execution": {
     "iopub.execute_input": "2021-09-27T16:57:15.844578Z",
     "iopub.status.busy": "2021-09-27T16:57:15.840436Z",
     "iopub.status.idle": "2021-09-27T16:57:15.881791Z",
     "shell.execute_reply": "2021-09-27T16:57:15.882281Z",
     "shell.execute_reply.started": "2021-09-27T16:17:26.37447Z"
    },
    "papermill": {
     "duration": 0.065936,
     "end_time": "2021-09-27T16:57:15.882480",
     "exception": false,
     "start_time": "2021-09-27T16:57:15.816544",
     "status": "completed"
    },
    "tags": []
   }
  },
  {
   "cell_type": "code",
   "execution_count": 8,
   "source": [
    "years = vgsales_df['Year'].unique()\n",
    "years.sort()\n",
    "years"
   ],
   "outputs": [
    {
     "output_type": "execute_result",
     "data": {
      "text/plain": [
       "array([1980, 1981, 1982, 1983, 1984, 1985, 1986, 1987, 1988, 1989, 1990,\n",
       "       1991, 1992, 1993, 1994, 1995, 1996, 1997, 1998, 1999, 2000, 2001,\n",
       "       2002, 2003, 2004, 2005, 2006, 2007, 2008, 2009, 2010, 2011, 2012,\n",
       "       2013, 2014, 2015, 2016, 2017, 2020])"
      ]
     },
     "metadata": {},
     "execution_count": 8
    }
   ],
   "metadata": {
    "execution": {
     "iopub.execute_input": "2021-09-27T16:57:15.931701Z",
     "iopub.status.busy": "2021-09-27T16:57:15.930011Z",
     "iopub.status.idle": "2021-09-27T16:57:15.935378Z",
     "shell.execute_reply": "2021-09-27T16:57:15.934784Z",
     "shell.execute_reply.started": "2021-09-27T16:17:26.409393Z"
    },
    "papermill": {
     "duration": 0.032501,
     "end_time": "2021-09-27T16:57:15.935533",
     "exception": false,
     "start_time": "2021-09-27T16:57:15.903032",
     "status": "completed"
    },
    "tags": []
   }
  },
  {
   "cell_type": "code",
   "execution_count": 9,
   "source": [
    "# Which Genre has the highest sale Global\n",
    "group_by_genre = vgsales_df.groupby('Genre')['Global_Sales'].sum()\n",
    "group_by_genre = pd.DataFrame(group_by_genre) # convert to df so can easier to plot\n",
    "group_by_genre.sort_values(by = 'Global_Sales', ascending = False, inplace = True)\n",
    "print(group_by_genre)\n",
    "\n",
    "plt.subplots(figsize = (10,5))\n",
    "plot = sns.histplot(data = group_by_genre, x = 'Global_Sales', y = \"Genre\")\n",
    "plt.xlabel('Global Sales in Million')\n",
    "plt.title('Global Sales by Genre from 1980 - 2020')\n",
    "plot.xaxis.set_major_formatter('${x:1.2f}')"
   ],
   "outputs": [
    {
     "output_type": "stream",
     "name": "stdout",
     "text": [
      "              Global_Sales\n",
      "Genre                     \n",
      "Action             1722.88\n",
      "Sports             1309.24\n",
      "Shooter            1026.20\n",
      "Role-Playing        923.84\n",
      "Platform            829.15\n",
      "Misc                797.62\n",
      "Racing              726.77\n",
      "Fighting            444.05\n",
      "Simulation          390.16\n",
      "Puzzle              242.22\n",
      "Adventure           234.80\n",
      "Strategy            173.43\n"
     ]
    },
    {
     "output_type": "display_data",
     "data": {
      "image/png": "[encoded data removed]",
      "text/plain": [
       "<Figure size 720x360 with 1 Axes>"
      ]
     },
     "metadata": {
      "needs_background": "light"
     }
    }
   ],
   "metadata": {
    "execution": {
     "iopub.execute_input": "2021-09-27T16:57:15.985178Z",
     "iopub.status.busy": "2021-09-27T16:57:15.984081Z",
     "iopub.status.idle": "2021-09-27T16:57:16.318035Z",
     "shell.execute_reply": "2021-09-27T16:57:16.318838Z",
     "shell.execute_reply.started": "2021-09-27T16:17:26.417235Z"
    },
    "papermill": {
     "duration": 0.36352,
     "end_time": "2021-09-27T16:57:16.319046",
     "exception": false,
     "start_time": "2021-09-27T16:57:15.955526",
     "status": "completed"
    },
    "tags": []
   }
  },
  {
   "cell_type": "markdown",
   "source": [
    "from the chart, we can infer Action, Sport and Shooter games out sale others genre globally."
   ],
   "metadata": {
    "papermill": {
     "duration": 0.021001,
     "end_time": "2021-09-27T16:57:16.362300",
     "exception": false,
     "start_time": "2021-09-27T16:57:16.341299",
     "status": "completed"
    },
    "tags": []
   }
  },
  {
   "cell_type": "code",
   "execution_count": 10,
   "source": [
    "# which genre is the highest sale in each country\n",
    "\n",
    "list_of_country = vgsales_df.columns[-5:-1]\n",
    "sales_by_country = pd.DataFrame(columns = ['Country', 'Genre', 'Sale'])\n",
    "\n",
    "for country in list_of_country:\n",
    "    sale = vgsales_df.groupby('Genre')[country].sum()\n",
    "    sale.sort_values(ascending = False, inplace = True)\n",
    "    \n",
    "    genre = sale[:1].index[0]\n",
    "    total = sale[:1].values[0]\n",
    "    sales_by_country.loc[len(sales_by_country)] = [country, genre, total]\n",
    "\n",
    "sales_by_country"
   ],
   "outputs": [
    {
     "output_type": "execute_result",
     "data": {
      "text/html": [
       "<div>\n",
       "<style scoped>\n",
       "    .dataframe tbody tr th:only-of-type {\n",
       "        vertical-align: middle;\n",
       "    }\n",
       "\n",
       "    .dataframe tbody tr th {\n",
       "        vertical-align: top;\n",
       "    }\n",
       "\n",
       "    .dataframe thead th {\n",
       "        text-align: right;\n",
       "    }\n",
       "</style>\n",
       "<table border=\"1\" class=\"dataframe\">\n",
       "  <thead>\n",
       "    <tr style=\"text-align: right;\">\n",
       "      <th></th>\n",
       "      <th>Country</th>\n",
       "      <th>Genre</th>\n",
       "      <th>Sale</th>\n",
       "    </tr>\n",
       "  </thead>\n",
       "  <tbody>\n",
       "    <tr>\n",
       "      <th>0</th>\n",
       "      <td>NA_Sales</td>\n",
       "      <td>Action</td>\n",
       "      <td>861.80</td>\n",
       "    </tr>\n",
       "    <tr>\n",
       "      <th>1</th>\n",
       "      <td>EU_Sales</td>\n",
       "      <td>Action</td>\n",
       "      <td>516.48</td>\n",
       "    </tr>\n",
       "    <tr>\n",
       "      <th>2</th>\n",
       "      <td>JP_Sales</td>\n",
       "      <td>Role-Playing</td>\n",
       "      <td>350.29</td>\n",
       "    </tr>\n",
       "    <tr>\n",
       "      <th>3</th>\n",
       "      <td>Other_Sales</td>\n",
       "      <td>Action</td>\n",
       "      <td>184.92</td>\n",
       "    </tr>\n",
       "  </tbody>\n",
       "</table>\n",
       "</div>"
      ],
      "text/plain": [
       "       Country         Genre    Sale\n",
       "0     NA_Sales        Action  861.80\n",
       "1     EU_Sales        Action  516.48\n",
       "2     JP_Sales  Role-Playing  350.29\n",
       "3  Other_Sales        Action  184.92"
      ]
     },
     "metadata": {},
     "execution_count": 10
    }
   ],
   "metadata": {
    "execution": {
     "iopub.execute_input": "2021-09-27T16:57:16.417430Z",
     "iopub.status.busy": "2021-09-27T16:57:16.416706Z",
     "iopub.status.idle": "2021-09-27T16:57:16.450765Z",
     "shell.execute_reply": "2021-09-27T16:57:16.451316Z",
     "shell.execute_reply.started": "2021-09-27T16:17:26.707835Z"
    },
    "papermill": {
     "duration": 0.067716,
     "end_time": "2021-09-27T16:57:16.451539",
     "exception": false,
     "start_time": "2021-09-27T16:57:16.383823",
     "status": "completed"
    },
    "tags": []
   }
  },
  {
   "cell_type": "markdown",
   "source": [
    "from this table, we can safely say that Action genre sales is strongest globally aside for Japan"
   ],
   "metadata": {
    "execution": {
     "iopub.execute_input": "2021-09-27T00:52:18.80741Z",
     "iopub.status.busy": "2021-09-27T00:52:18.806861Z",
     "iopub.status.idle": "2021-09-27T00:52:18.817914Z",
     "shell.execute_reply": "2021-09-27T00:52:18.816671Z",
     "shell.execute_reply.started": "2021-09-27T00:52:18.80736Z"
    },
    "papermill": {
     "duration": 0.022199,
     "end_time": "2021-09-27T16:57:16.496004",
     "exception": false,
     "start_time": "2021-09-27T16:57:16.473805",
     "status": "completed"
    },
    "tags": []
   }
  },
  {
   "cell_type": "code",
   "execution_count": 11,
   "source": [
    "# bar plot with annotation\n",
    "plot = sns.barplot(data = sales_by_country, x = 'Sale', y = 'Country', orient = 'h', palette = 'magma', hue = 'Genre')\n",
    "plt.xlabel('Sale in Million')\n",
    "plt.title('Game Sales by Country/Genre 1980 - 2020')\n",
    "plot.xaxis.set_major_formatter('${x:1.2f}')"
   ],
   "outputs": [
    {
     "output_type": "display_data",
     "data": {
      "image/png": "[encoded data removed]",
      "text/plain": [
       "<Figure size 432x288 with 1 Axes>"
      ]
     },
     "metadata": {
      "needs_background": "light"
     }
    }
   ],
   "metadata": {
    "execution": {
     "iopub.execute_input": "2021-09-27T16:57:16.546200Z",
     "iopub.status.busy": "2021-09-27T16:57:16.545506Z",
     "iopub.status.idle": "2021-09-27T16:57:16.860800Z",
     "shell.execute_reply": "2021-09-27T16:57:16.861313Z",
     "shell.execute_reply.started": "2021-09-27T16:17:26.745857Z"
    },
    "papermill": {
     "duration": 0.342383,
     "end_time": "2021-09-27T16:57:16.861513",
     "exception": false,
     "start_time": "2021-09-27T16:57:16.519130",
     "status": "completed"
    },
    "tags": []
   }
  },
  {
   "cell_type": "code",
   "execution_count": 12,
   "source": [
    "# top 5 platforms with highest game sales? \n",
    "\n",
    "group_by_platform = vgsales_df.groupby('Platform')['Global_Sales'].sum()\n",
    "group_by_platform.sort_values(ascending = False, inplace = True)\n",
    "\n",
    "print(group_by_platform[:5])\n",
    "\n",
    "top_5_by_platform = pd.DataFrame(group_by_platform[:5])\n",
    "\n",
    "plot = sns.histplot(data = top_5_by_platform, x = 'Global_Sales', y = 'Platform')\n",
    "plt.title('Total Game Sales by Platform 1980 - 2020')\n",
    "plt.xlabel('Sales in Million')\n",
    "plot.xaxis.set_major_formatter('${x:1.2f}')"
   ],
   "outputs": [
    {
     "output_type": "stream",
     "name": "stdout",
     "text": [
      "Platform\n",
      "PS2     1233.46\n",
      "X360     969.61\n",
      "PS3      949.35\n",
      "Wii      909.81\n",
      "DS       818.96\n",
      "Name: Global_Sales, dtype: float64\n"
     ]
    },
    {
     "output_type": "display_data",
     "data": {
      "image/png": "[encoded data removed]",
      "text/plain": [
       "<Figure size 432x288 with 1 Axes>"
      ]
     },
     "metadata": {
      "needs_background": "light"
     }
    }
   ],
   "metadata": {
    "execution": {
     "iopub.execute_input": "2021-09-27T16:57:16.912989Z",
     "iopub.status.busy": "2021-09-27T16:57:16.912233Z",
     "iopub.status.idle": "2021-09-27T16:57:17.292773Z",
     "shell.execute_reply": "2021-09-27T16:57:17.292056Z",
     "shell.execute_reply.started": "2021-09-27T16:17:27.026431Z"
    },
    "papermill": {
     "duration": 0.408302,
     "end_time": "2021-09-27T16:57:17.292949",
     "exception": false,
     "start_time": "2021-09-27T16:57:16.884647",
     "status": "completed"
    },
    "tags": []
   }
  },
  {
   "cell_type": "markdown",
   "source": [
    "PS2 seem to have the lead on all platforms during this time span"
   ],
   "metadata": {
    "papermill": {
     "duration": 0.023633,
     "end_time": "2021-09-27T16:57:17.341140",
     "exception": false,
     "start_time": "2021-09-27T16:57:17.317507",
     "status": "completed"
    },
    "tags": []
   }
  },
  {
   "cell_type": "code",
   "execution_count": 13,
   "source": [
    "# how many games each top 5 platforms sold during this time frame\n",
    "game_sold_by_platf = vgsales_df['Platform'].value_counts()\n",
    "game_sold_by_platf.sort_values(ascending = False, inplace = True)\n",
    "top_5_dict = {'Platform': game_sold_by_platf[:5].index, 'Game_Count': game_sold_by_platf[:5].values}\n",
    "top_5_game_sold = pd.DataFrame(top_5_dict)\n",
    "print(top_5_game_sold)\n",
    "\n",
    "plot = sns.barplot(data = top_5_game_sold, x = 'Platform', y = 'Game_Count', palette = 'magma')\n",
    "plt.title('Total Game Release by Platform 1980 - 2020')\n",
    "plt.xlabel('Number of Games Sold')\n",
    "plt.ylabel('Total Released')"
   ],
   "outputs": [
    {
     "output_type": "stream",
     "name": "stdout",
     "text": [
      "  Platform  Game_Count\n",
      "0       DS        2133\n",
      "1      PS2        2127\n",
      "2      PS3        1304\n",
      "3      Wii        1290\n",
      "4     X360        1235\n"
     ]
    },
    {
     "output_type": "execute_result",
     "data": {
      "text/plain": [
       "Text(0, 0.5, 'Total Released')"
      ]
     },
     "metadata": {},
     "execution_count": 13
    },
    {
     "output_type": "display_data",
     "data": {
      "image/png": "[encoded data removed]",
      "text/plain": [
       "<Figure size 432x288 with 1 Axes>"
      ]
     },
     "metadata": {
      "needs_background": "light"
     }
    }
   ],
   "metadata": {
    "execution": {
     "iopub.execute_input": "2021-09-27T16:57:17.394995Z",
     "iopub.status.busy": "2021-09-27T16:57:17.393853Z",
     "iopub.status.idle": "2021-09-27T16:57:17.659570Z",
     "shell.execute_reply": "2021-09-27T16:57:17.658922Z",
     "shell.execute_reply.started": "2021-09-27T16:20:05.516752Z"
    },
    "papermill": {
     "duration": 0.293934,
     "end_time": "2021-09-27T16:57:17.659732",
     "exception": false,
     "start_time": "2021-09-27T16:57:17.365798",
     "status": "completed"
    },
    "tags": []
   }
  },
  {
   "cell_type": "markdown",
   "source": [
    "Interestingly N DS had more games released than S PS2 in the same time period. However, above chart indicates N DS grossing the lowest out of the top 5 platforms. There are a couple of theories:\n",
    "- maybe game prices for each N DS are much lower per unit compare to S PS2. I.e 29.99 usd vs 49.99 usd per game. \n",
    "- possibly S PS2 has game titles that out sale N DS titles "
   ],
   "metadata": {
    "papermill": {
     "duration": 0.025935,
     "end_time": "2021-09-27T16:57:17.711008",
     "exception": false,
     "start_time": "2021-09-27T16:57:17.685073",
     "status": "completed"
    },
    "tags": []
   }
  },
  {
   "cell_type": "code",
   "execution_count": 14,
   "source": [
    "# calc means for Global_Sales between PS2 and DS\n",
    "num_ds_games = len(vgsales_df[vgsales_df['Platform'] == 'DS']) \n",
    "num_ps2_games = game_sold_by_platf[game_sold_by_platf.index == 'PS2'].values[0]\n",
    "\n",
    "print('DS games released: {} \\nPS2 games released: {}'.format(num_ds_games, num_ps2_games))\n",
    "\n",
    "print('Est. of units sold on PS2: {}'.format(round(((1233.46 * 1000000) / 49.99)))) # PS2 1233.46 total global sales in million\n",
    "print('Est. of units sold on DS: {}'.format(round(((818.96 * 1000000) / 29.99)))) # DS 818.96 total global sales in million"
   ],
   "outputs": [
    {
     "output_type": "stream",
     "name": "stdout",
     "text": [
      "DS games released: 2133 \n",
      "PS2 games released: 2127\n",
      "Est. of units sold on PS2: 24674135\n",
      "Est. of units sold on DS: 27307769\n"
     ]
    }
   ],
   "metadata": {
    "execution": {
     "iopub.execute_input": "2021-09-27T16:57:17.773607Z",
     "iopub.status.busy": "2021-09-27T16:57:17.772901Z",
     "iopub.status.idle": "2021-09-27T16:57:17.779215Z",
     "shell.execute_reply": "2021-09-27T16:57:17.778677Z",
     "shell.execute_reply.started": "2021-09-27T16:36:22.994419Z"
    },
    "papermill": {
     "duration": 0.041996,
     "end_time": "2021-09-27T16:57:17.779392",
     "exception": false,
     "start_time": "2021-09-27T16:57:17.737396",
     "status": "completed"
    },
    "tags": []
   }
  },
  {
   "cell_type": "markdown",
   "source": [
    "Not only DS had more games released on its platform, it also sold more units than PS2. However, gross revenue difference can be related to price differences per game unit for each platform. "
   ],
   "metadata": {
    "papermill": {
     "duration": 0.025697,
     "end_time": "2021-09-27T16:57:17.830803",
     "exception": false,
     "start_time": "2021-09-27T16:57:17.805106",
     "status": "completed"
    },
    "tags": []
   }
  }
 ],
 "metadata": {
  "kernelspec": {
   "display_name": "Python 3",
   "language": "python",
   "name": "python3"
  },
  "language_info": {
   "codemirror_mode": {
    "name": "ipython",
    "version": 3
   },
   "file_extension": ".py",
   "mimetype": "text/x-python",
   "name": "python",
   "nbconvert_exporter": "python",
   "pygments_lexer": "ipython3",
   "version": "3.7.10"
  },
  "papermill": {
   "default_parameters": {},
   "duration": 15.823118,
   "end_time": "2021-09-27T16:57:19.520169",
   "environment_variables": {},
   "exception": null,
   "input_path": "__notebook__.ipynb",
   "output_path": "__notebook__.ipynb",
   "parameters": {},
   "start_time": "2021-09-27T16:57:03.697051",
   "version": "2.3.3"
  }
 },
 "nbformat": 4,
 "nbformat_minor": 5
}